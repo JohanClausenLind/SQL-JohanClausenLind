{
 "cells": [
  {
   "cell_type": "code",
   "execution_count": 10,
   "metadata": {},
   "outputs": [
    {
     "name": "stdout",
     "output_type": "stream",
     "text": [
      "Connecting to database using URL string:\n",
      "mssql+pyodbc://?odbc_connect=DRIVER=ODBC+Driver+17+for+SQL+Server;SERVER=localhost;DATABASE=BokHandel;Trusted_Connection=yes \n",
      "\n",
      "Successfully connected to BokHandel!\n"
     ]
    }
   ],
   "source": [
    "from sqlalchemy import create_engine, text\n",
    "from sqlalchemy.engine import URL\n",
    "from urllib.parse import unquote\n",
    "\n",
    "server_name = \"localhost\"\n",
    "database_name = \"BokHandel\"\n",
    "\n",
    "connection_string = f\"DRIVER=ODBC Driver 17 for SQL Server;SERVER={server_name};DATABASE={database_name};Trusted_Connection=yes\"\n",
    "url_string = URL.create(\"mssql+pyodbc\", query={\"odbc_connect\": connection_string})\n",
    "\n",
    "print('Connecting to database using URL string:')\n",
    "unquoted_url = unquote(str(url_string))\n",
    "print(unquoted_url, '\\n')\n",
    "\n",
    "try:\n",
    "    engine = create_engine(url_string)\n",
    "    with engine.connect() as connection:\n",
    "        print(f'Successfully connected to {database_name}!')\n",
    "except Exception as e:\n",
    "    print('Error while connecting to database:\\n', e)\n"
   ]
  },
  {
   "cell_type": "code",
   "execution_count": 22,
   "metadata": {},
   "outputs": [
    {
     "name": "stdout",
     "output_type": "stream",
     "text": [
      "Sökning: \n",
      "\n",
      "Titel                                             Antal                                             Butik                                             \n",
      "Harry Potter and the Philosopher's Stone          1                                                 Hogwarts Bookstore                                \n",
      "Star Wars: A New Hope                             1                                                 The Galactic Emporium                             \n",
      "The Fellowship of the Ring                        1                                                 Hobbiton Bookshop                                 \n"
     ]
    }
   ],
   "source": [
    "search_string = input(\"leta BokTitlar: \")\n",
    "print(f\"Sökning: {search_string}\\n\")\n",
    "\n",
    "query = \"\"\"\n",
    "select top 10\n",
    "    B.Titel AS Titel,\n",
    "    O.Antal AS Antal,\n",
    "    S.Butiksnamn AS Butik\n",
    "from\n",
    "    Böcker AS B\n",
    "join\n",
    "    OrderDetaljer AS O ON B.ISBN13 = O.ISBN\n",
    "join\n",
    "    LagerSaldo AS L ON B.ISBN13 = L.ISBN\n",
    "join\n",
    "    Butiker AS S ON L.ButikID = S.ID\n",
    "where\n",
    "    B.Titel LIKE :search\n",
    "order by\n",
    "    B.Titel, S.Butiksnamn\n",
    "\"\"\"\n",
    "\n",
    "with engine.connect() as conn:\n",
    "    result = conn.execute(text(query), {'search': f'%{search_string}%'})\n",
    "    print(f\"{'Titel'.ljust(50)}{'Antal'.ljust(50)}{'Butik'.ljust(50)}\")\n",
    "    for row in result:\n",
    "        print(f\"{str(row.Titel).ljust(50)}{str(row.Antal).ljust(50)}{str(row.Butik).ljust(50)}\")\n"
   ]
  }
 ],
 "metadata": {
  "kernelspec": {
   "display_name": "SQL-kernel",
   "language": "python",
   "name": "sql-kernel"
  },
  "language_info": {
   "codemirror_mode": {
    "name": "ipython",
    "version": 3
   },
   "file_extension": ".py",
   "mimetype": "text/x-python",
   "name": "python",
   "nbconvert_exporter": "python",
   "pygments_lexer": "ipython3",
   "version": "3.11.9"
  }
 },
 "nbformat": 4,
 "nbformat_minor": 2
}

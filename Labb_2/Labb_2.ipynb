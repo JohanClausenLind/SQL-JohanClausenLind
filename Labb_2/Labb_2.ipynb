{
 "cells": [
  {
   "cell_type": "code",
   "execution_count": 5,
   "metadata": {},
   "outputs": [
    {
     "name": "stdout",
     "output_type": "stream",
     "text": [
      "Connecting to database using URL string:\n",
      "mssql+pyodbc://?odbc_connect=DRIVER=ODBC+Driver+17+for+SQL+Server;SERVER=localhost;DATABASE=BokHandel;Trusted_Connection=yes \n",
      "\n",
      "Successfully connected to BokHandel!\n"
     ]
    },
    {
     "data": {
      "text/plain": [
       "'2.0.30'"
      ]
     },
     "execution_count": 5,
     "metadata": {},
     "output_type": "execute_result"
    }
   ],
   "source": [
    "from sqlalchemy import create_engine\n",
    "from sqlalchemy.engine import URL\n",
    "from urllib.parse import unquote\n",
    "import sqlalchemy\n",
    "\n",
    "server_name   = \"localhost\"\n",
    "database_name = \"BokHandel\"\n",
    "\n",
    "connection_string = f\"DRIVER=ODBC Driver 17 for SQL Server;SERVER={server_name};DATABASE={database_name};Trusted_Connection=yes\"\n",
    "url_string        = URL.create(\"mssql+pyodbc\", query={\"odbc_connect\": connection_string})\n",
    "\n",
    "print('Connecting to database using URL string:')\n",
    "unquoted_url = unquote(str(url_string))\n",
    "print(unquoted_url, '\\n')\n",
    "\n",
    "try:    \n",
    "    engine = create_engine(url_string)\n",
    "    with engine.connect() as connection:\n",
    "        print(f'Successfully connected to {database_name}!')\n",
    "except Exception as e:\n",
    "    print('Error while connecting to database:\\n')\n",
    "    print(e)\n",
    "\n",
    "sqlalchemy.__version__"
   ]
  },
  {
   "cell_type": "code",
   "execution_count": 25,
   "metadata": {},
   "outputs": [
    {
     "name": "stdout",
     "output_type": "stream",
     "text": [
      "Search string: wewo\n",
      "\n",
      "Titel                                             Antal                                             \n"
     ]
    }
   ],
   "source": [
    "from sqlalchemy import text\n",
    "search_string = input(\"Search boktitlar: \")\n",
    "\n",
    "print(f\"Search string: {search_string}\\n\")\n",
    "\n",
    "query = \"\"\"\n",
    "select top 10\n",
    "     \n",
    "    [Titel] as 'Titel', \n",
    "    [Antal] as 'Antal' \n",
    "from \n",
    "    Böcker as B\n",
    "    join OrderDetaljer as O on B.ISBN13 = o.ISBN\n",
    "where \n",
    "    [Titel] like :search\n",
    "    \"\"\"\n",
    "\n",
    "\n",
    "\n",
    "with engine.connect() as conn:\n",
    "    result = conn.execute(text(query), {'search': f'%{search_string}%'})\n",
    "    print(f\"{'Titel'.ljust(50)}{'Antal'.ljust(50)}\")\n",
    "    for row in result:\n",
    "        print(f\"{str(row[0]).ljust(50)}{str(row[1]).ljust(50)}\")\n",
    "\n"
   ]
  }
 ],
 "metadata": {
  "kernelspec": {
   "display_name": "env",
   "language": "python",
   "name": "python3"
  },
  "language_info": {
   "codemirror_mode": {
    "name": "ipython",
    "version": 3
   },
   "file_extension": ".py",
   "mimetype": "text/x-python",
   "name": "python",
   "nbconvert_exporter": "python",
   "pygments_lexer": "ipython3",
   "version": "3.11.9"
  }
 },
 "nbformat": 4,
 "nbformat_minor": 2
}
